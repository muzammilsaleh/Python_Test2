{
 "cells": [
  {
   "cell_type": "code",
   "execution_count": 23,
   "id": "6db6c8e3-d9be-4b3a-8257-5663fce19101",
   "metadata": {},
   "outputs": [
    {
     "name": "stdout",
     "output_type": "stream",
     "text": [
      "Circle with radius 4.5\n",
      "  Area: 63.61725123519331\n",
      "  Perimeter: 40.5\n"
     ]
    }
   ],
   "source": [
    "import math \n",
    "class Circle:\n",
    "    def __init__(self,radius):\n",
    "        if radius<=0:\n",
    "            print(\"Radius must be greater then zero\")\n",
    "        self.radius = radius\n",
    "    def area(self):\n",
    "        return math.pi * self.radius**2\n",
    "    def perimeter(self):\n",
    "        return 2 * self.radius**2\n",
    "circle1 = Circle(4.5)\n",
    "print(f\"Circle with radius {circle1.radius}\")\n",
    "print(f\"  Area: {circle1.area()}\")\n",
    "print(f\"  Perimeter: {circle1.perimeter()}\")"
   ]
  },
  {
   "cell_type": "code",
   "execution_count": 4,
   "id": "680371ff-691e-4538-a912-d2a8fcd593c6",
   "metadata": {},
   "outputs": [
    {
     "name": "stdout",
     "output_type": "stream",
     "text": [
      "50 + 25 = 75\n",
      "50 - 25 = 25\n",
      "50 * 25 = 1250\n",
      "50 / 25 = 2.0\n"
     ]
    }
   ],
   "source": [
    "class Calculator:\n",
    "    def add(self, num1, num2):\n",
    "        result = num1+num2\n",
    "        return result\n",
    "    def sub(self, num1, num2):\n",
    "        result = num1-num2\n",
    "        return result\n",
    "    def mul(self, num1, num2):\n",
    "        result = num1*num2\n",
    "        return result\n",
    "    def divide(self, num1, num2):\n",
    "        result = num1/num2\n",
    "        return result\\\n",
    "        \n",
    "my_cal= Calculator()\n",
    "num1=50\n",
    "num2=25\n",
    "\n",
    "addition_result = my_cal.add(num1, num2)\n",
    "print(f\"{num1} + {num2} = {addition_result}\")\n",
    "\n",
    "subtraction_result = my_cal.sub(num1, num2)\n",
    "print(f\"{num1} - {num2} = {subtraction_result}\")\n",
    "\n",
    "multiplication_result = my_cal.mul(num1, num2)\n",
    "print(f\"{num1} * {num2} = {multiplication_result}\")\n",
    "\n",
    "division_result = my_cal.divide(num1, num2)\n",
    "print(f\"{num1} / {num2} = {division_result}\")"
   ]
  },
  {
   "cell_type": "code",
   "execution_count": 61,
   "id": "dd7d19d5-4b20-4052-82c3-a3c0f9a60e11",
   "metadata": {},
   "outputs": [
    {
     "name": "stdout",
     "output_type": "stream",
     "text": [
      "Pushed '10' into the stack.\n",
      "Pushed '20' into the stack.\n",
      "Pushed '30' into the stack.\n",
      "Popped '30' from the stack.\n",
      "30\n",
      "Popped '20' from the stack.\n",
      "20\n",
      "Popped '10' from the stack.\n",
      "10\n",
      "Pushed '40' into the stack.\n"
     ]
    }
   ],
   "source": [
    "class stack:\n",
    "    def __init__(self):\n",
    "        self.items=[]\n",
    "    def push(self, item):\n",
    "        self.items.append(item)\n",
    "        print(f\"Pushed '{item}' into the stack.\")\n",
    "    def pop(self):\n",
    "            popped_item = self.items.pop()\n",
    "            print(f\"Popped '{popped_item}' from the stack.\")\n",
    "            return popped_item\n",
    "my_stack = stack()\n",
    "my_stack.push(10)\n",
    "my_stack.push(20)\n",
    "my_stack.push(30)\n",
    "print(my_stack.pop())\n",
    "print(my_stack.pop())\n",
    "print(my_stack.pop())\n",
    "my_stack.push(40)"
   ]
  },
  {
   "cell_type": "code",
   "execution_count": 55,
   "id": "4bfee9c4-2cf0-43fc-9c3f-87c29d7b87d3",
   "metadata": {},
   "outputs": [
    {
     "name": "stdout",
     "output_type": "stream",
     "text": [
      "1 -> 2 -> 3 -> 4 -> null\n"
     ]
    }
   ],
   "source": [
    "class Node:\n",
    "    def __init__(self, data):\n",
    "        self.data = data\n",
    "        self.next = None\n",
    "    \n",
    "node1 = Node(1)\n",
    "node2 = Node(2)\n",
    "node3 = Node(3)\n",
    "node4 = Node(4)\n",
    "\n",
    "node1.next = node2\n",
    "node2.next = node3\n",
    "node3.next = node4\n",
    "\n",
    "currentNode = node1\n",
    "while currentNode:\n",
    "    print(currentNode.data, end=\" -> \")\n",
    "    currentNode = currentNode.next\n",
    "print(\"null\")"
   ]
  },
  {
   "cell_type": "code",
   "execution_count": 62,
   "id": "c320d300-7caf-47a3-8b3d-7c1cdf8c707b",
   "metadata": {},
   "outputs": [
    {
     "name": "stdout",
     "output_type": "stream",
     "text": [
      "'Book' added to cart. Price: 750\n",
      "'Pen' added to cart. Price: 20\n",
      "'Notebook' added to cart. Price: 100\n",
      "'Pen' removed from cart.\n",
      "Total price: 850\n"
     ]
    },
    {
     "data": {
      "text/plain": [
       "850"
      ]
     },
     "execution_count": 62,
     "metadata": {},
     "output_type": "execute_result"
    }
   ],
   "source": [
    "class ShoppingCart:\n",
    "    def __init__(self):\n",
    "        self.items = {}\n",
    "    def add_item(self, item_name, price):\n",
    "        self.items[item_name] = price\n",
    "        print(f\"'{item_name}' added to cart. Price: {price}\")\n",
    "    def remove_item(self, item_name):\n",
    "        if item_name in self.items:\n",
    "            del self.items[item_name]\n",
    "            print(f\"'{item_name}' removed from cart.\")\n",
    "        else:\n",
    "            print(f\"'{item_name}' not found in cart.\")\n",
    "    def calculate_total(self):\n",
    "        total = sum(self.items.values())\n",
    "        print(\"Total price:\", total)\n",
    "        return total\n",
    "my_cart = ShoppingCart()\n",
    "my_cart.add_item(\"Book\", 750)\n",
    "my_cart.add_item(\"Pen\", 20)\n",
    "my_cart.add_item(\"Notebook\", 100)\n",
    "my_cart.remove_item(\"Pen\")\n",
    "my_cart.calculate_total()"
   ]
  },
  {
   "cell_type": "code",
   "execution_count": 34,
   "id": "105b3637-7398-4582-984b-019c4611fd37",
   "metadata": {},
   "outputs": [
    {
     "name": "stdout",
     "output_type": "stream",
     "text": [
      "Added: Ali\n",
      "Added: Sara\n",
      "Removed: Ali\n",
      "Added: Ahmed\n",
      "Removed: Sara\n",
      "Removed: Ahmed\n",
      "Line is empty.\n"
     ]
    }
   ],
   "source": [
    "class Queue:\n",
    "    def __init__(self):\n",
    "        self.line = []\n",
    "    def enqueue(self, item):\n",
    "        self.line.append(item)\n",
    "        print(f\"Added: {item}\")\n",
    "    def dequeue(self):\n",
    "        if self.line:\n",
    "            line = self.line.pop(0)\n",
    "            print(f\"Removed: {line}\")\n",
    "            return line\n",
    "        else:\n",
    "            print(\"Line is empty.\")\n",
    "            return None\n",
    "q = Queue()\n",
    "q.enqueue(\"Ali\")\n",
    "q.enqueue(\"Sara\")\n",
    "q.dequeue()\n",
    "q.enqueue(\"Ahmed\")\n",
    "q.dequeue()\n",
    "q.dequeue()\n",
    "q.dequeue()"
   ]
  },
  {
   "cell_type": "code",
   "execution_count": 42,
   "id": "973d2109-f01d-49a1-9871-8acd98f2dd0e",
   "metadata": {},
   "outputs": [
    {
     "name": "stdout",
     "output_type": "stream",
     "text": [
      "Current balance is 54500\n"
     ]
    }
   ],
   "source": [
    "class BankAccount:\n",
    "    def __init__(self, balance):\n",
    "        self.balance = balance\n",
    "        \n",
    "    def deposit(self,amount):\n",
    "        self.balance += amount\n",
    "        \n",
    "    def credit(self,amount):\n",
    "        self.balance -= amount\n",
    "        \n",
    "    def get_balance(self):\n",
    "        return self.balance\n",
    "acc = BankAccount(50000)\n",
    "acc.deposit(5000)\n",
    "acc.credit(500)\n",
    "print(f\"Current balance is {acc.get_balance()}\")"
   ]
  },
  {
   "cell_type": "code",
   "execution_count": 47,
   "id": "77555590-9980-4ec9-a8ec-0a30bf42b5d6",
   "metadata": {},
   "outputs": [
    {
     "name": "stdout",
     "output_type": "stream",
     "text": [
      "Account 002345678901 created with balance: 100\n",
      "Deposited 50 in 002345678901. New balance: 150\n",
      "Withdrew 20 from 002345678901. New balance: 130\n",
      "Balance of 002345678901: 130\n"
     ]
    }
   ],
   "source": [
    "class Bank:\n",
    "    def __init__(self, name):\n",
    "        self.name = name\n",
    "        self.accounts = {}\n",
    "\n",
    "    def create_account(self, account_number, balance):\n",
    "        self.accounts[account_number] = balance\n",
    "        print(f\"Account {account_number} created with balance: {balance}\")\n",
    "\n",
    "    def deposit(self, account_number, amount):\n",
    "        if account_number in self.accounts:\n",
    "            self.accounts[account_number] += amount\n",
    "            print(f\"Deposited {amount} in {account_number}. New balance: {self.accounts[account_number]}\")\n",
    "        else:\n",
    "            print(\"Account not found.\")\n",
    "\n",
    "    def withdraw(self, account_number, amount):\n",
    "        if account_number in self.accounts:\n",
    "            if self.accounts[account_number] >= amount:\n",
    "                self.accounts[account_number] -= amount\n",
    "                print(f\"Withdrew {amount} from {account_number}. New balance: {self.accounts[account_number]}\")\n",
    "            else:\n",
    "                print(\"Insufficient balance.\")\n",
    "        else:\n",
    "            print(\"Account not found.\")\n",
    "\n",
    "    def check_balance(self, account_number):\n",
    "        if account_number in self.accounts:\n",
    "            print(f\"Balance of {account_number}: {self.accounts[account_number]}\")\n",
    "        else:\n",
    "            print(\"Account not found.\")\n",
    "\n",
    "my_bank = Bank(\"Islamic Bank\")\n",
    "my_bank.create_account(\"002345678901\", 100)\n",
    "my_bank.deposit(\"002345678901\", 50)\n",
    "my_bank.withdraw(\"002345678901\", 20)\n",
    "my_bank.check_balance(\"002345678901\")"
   ]
  },
  {
   "cell_type": "code",
   "execution_count": 46,
   "id": "df98bdd3-a9f8-4798-857b-8f79aa22a138",
   "metadata": {},
   "outputs": [
    {
     "name": "stdout",
     "output_type": "stream",
     "text": [
      "Rs. 500 Added to the account. New balance is: Rs. 1500\n",
      "Rs. 200 withdraw. New balance is: Rs. 1300\n",
      "you have insufficient balance to withdraw the money\n",
      "current balance is: Rs. 1300\n"
     ]
    }
   ],
   "source": [
    "class Account:\n",
    "    def __init__(self, balance):\n",
    "        self._balance = balance\n",
    "    def deposit(self, amount):\n",
    "        if amount > 0:\n",
    "            self._balance += amount\n",
    "            print(f\"Rs. {amount} Added to the account. New balance is: Rs. {self._balance}\")\n",
    "        else:\n",
    "            print(\"Invalid ammount\")\n",
    "    def withdraw(self, amount):\n",
    "        if amount > 0:\n",
    "            if amount <= self._balance:\n",
    "                self._balance -= amount\n",
    "                print(f\"Rs. {amount} withdraw. New balance is: Rs. {self._balance}\")\n",
    "            else:\n",
    "                print(\"you have insufficient balance to withdraw the money\")\n",
    "        else:\n",
    "            print(\"invalid ammount\")\n",
    "    def check_balance(self):\n",
    "        print(f\"current balance is: Rs. {self._balance}\")\n",
    "\n",
    "my_account = Account(1000) \n",
    "my_account.deposit(500)\n",
    "my_account.withdraw(200)\n",
    "my_account.withdraw(2000)\n",
    "my_account.check_balance()"
   ]
  },
  {
   "cell_type": "code",
   "execution_count": 9,
   "id": "6c6e4346-d3da-468d-a221-d92b957a7da4",
   "metadata": {
    "scrolled": true
   },
   "outputs": [
    {
     "name": "stdout",
     "output_type": "stream",
     "text": [
      "Rectangle Area: 15\n",
      "Rectangle Perimeter: 16\n",
      "Circle Area: 50.26548245743669\n",
      "Circle Perimeter: 25.132741228718345\n"
     ]
    }
   ],
   "source": [
    "from abc import ABC, abstractmethod\n",
    "import math\n",
    "\n",
    "class Shape(ABC):\n",
    "    @abstractmethod\n",
    "    def area(self):\n",
    "        pass \n",
    "    @abstractmethod\n",
    "    def perimeter(self):\n",
    "        pass  \n",
    "\n",
    "class Rectangle(Shape):\n",
    "    def __init__(self, width, height):\n",
    "        self.width = width\n",
    "        self.height = height\n",
    "    def area(self):\n",
    "        return self.width * self.height\n",
    "    def perimeter(self):\n",
    "        return 2 * (self.width + self.height)\n",
    "\n",
    "class Circle(Shape):\n",
    "    def __init__(self, radius):\n",
    "        self.radius = radius\n",
    "    def area(self):\n",
    "        return math.pi * self.radius ** 2\n",
    "    def perimeter(self):\n",
    "        return 2 * math.pi * self.radius\n",
    "rect = Rectangle(5, 3)\n",
    "circle = Circle(4)\n",
    "\n",
    "print(\"Rectangle Area:\", rect.area())\n",
    "print(\"Rectangle Perimeter:\", rect.perimeter())\n",
    "\n",
    "print(\"Circle Area:\", circle.area())\n",
    "print(\"Circle Perimeter:\", circle.perimeter())\n"
   ]
  },
  {
   "cell_type": "code",
   "execution_count": 25,
   "id": "d4beaf04-ed0d-4afc-ae16-7a0c83dbdc58",
   "metadata": {},
   "outputs": [
    {
     "name": "stdout",
     "output_type": "stream",
     "text": [
      "None\n"
     ]
    }
   ],
   "source": []
  },
  {
   "cell_type": "code",
   "execution_count": null,
   "id": "1823661b-d654-41cb-828e-2ad1a78493af",
   "metadata": {},
   "outputs": [],
   "source": []
  }
 ],
 "metadata": {
  "kernelspec": {
   "display_name": "Python 3 (ipykernel)",
   "language": "python",
   "name": "python3"
  },
  "language_info": {
   "codemirror_mode": {
    "name": "ipython",
    "version": 3
   },
   "file_extension": ".py",
   "mimetype": "text/x-python",
   "name": "python",
   "nbconvert_exporter": "python",
   "pygments_lexer": "ipython3",
   "version": "3.8.10"
  }
 },
 "nbformat": 4,
 "nbformat_minor": 5
}
